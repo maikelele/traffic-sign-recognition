{
  "nbformat": 4,
  "nbformat_minor": 0,
  "metadata": {
    "colab": {
      "provenance": [],
      "authorship_tag": "ABX9TyOWHUajdrVTolcHa1FYsZ0E"
    },
    "kernelspec": {
      "name": "python3",
      "display_name": "Python 3"
    },
    "language_info": {
      "name": "python"
    }
  },
  "cells": [
    {
      "cell_type": "code",
      "source": [
        "from google.colab import drive\n",
        "drive.mount('/content/drive')"
      ],
      "metadata": {
        "colab": {
          "base_uri": "https://localhost:8080/"
        },
        "id": "j37HIO_-KoIU",
        "outputId": "259c45ab-16a0-4e65-f146-d181d4fbe2fd"
      },
      "execution_count": 1,
      "outputs": [
        {
          "output_type": "stream",
          "name": "stdout",
          "text": [
            "Mounted at /content/drive\n"
          ]
        }
      ]
    },
    {
      "cell_type": "code",
      "execution_count": null,
      "metadata": {
        "id": "j1kD6ZqCKlcP"
      },
      "outputs": [],
      "source": [
        "!unzip /content/drive/MyDrive/project/archive.zip -d /content/gtsrb"
      ]
    },
    {
      "cell_type": "code",
      "source": [
        "import pandas as pd\n",
        "import os\n",
        "from PIL import Image\n",
        "\n",
        "# Set the base path to your dataset directory\n",
        "base_path = '/content/gtsrb'\n",
        "\n",
        "# Assuming CSV annotations are available\n",
        "# GTSRB typically comes with CSV files that list image names, bounding boxes, and class labels\n",
        "annotations_csv = pd.read_csv('/content/gtsrb/Train.csv')\n"
      ],
      "metadata": {
        "collapsed": true,
        "id": "CQo0YmoqMygU"
      },
      "execution_count": 11,
      "outputs": []
    },
    {
      "cell_type": "code",
      "source": [
        "\n",
        "# List all directories within the train path (each class directory)\n",
        "class_dirs = [d for d in os.listdir(base_path) if os.path.isdir(os.path.join(base_path, d))]\n",
        "\n",
        "# Iterate through each class directory and create a 'labels' subdirectory\n",
        "for class_id in class_dirs:\n",
        "    labels_path = os.path.join(base_path, class_id, 'labels')\n",
        "    os.makedirs(labels_path, exist_ok=True)\n",
        "    print(f\"Created or verified labels folder: {labels_path}\")\n"
      ],
      "metadata": {
        "colab": {
          "base_uri": "https://localhost:8080/"
        },
        "id": "DutmOLFhPOfU",
        "outputId": "b9c059dd-c15e-473d-b398-1f0f39ae155e"
      },
      "execution_count": 12,
      "outputs": [
        {
          "output_type": "stream",
          "name": "stdout",
          "text": [
            "Created or verified labels folder: /content/gtsrb/Test/labels\n",
            "Created or verified labels folder: /content/gtsrb/Train/labels\n",
            "Created or verified labels folder: /content/gtsrb/test/labels\n",
            "Created or verified labels folder: /content/gtsrb/Meta/labels\n",
            "Created or verified labels folder: /content/gtsrb/meta/labels\n",
            "Created or verified labels folder: /content/gtsrb/train/labels\n"
          ]
        }
      ]
    },
    {
      "cell_type": "code",
      "source": [
        "for _, row in annotations_csv.iterrows():\n",
        "    # Construct the image path\n",
        "    img_path = os.path.join(base_path, row['Path'])\n",
        "    image = Image.open(img_path)\n",
        "    iw, ih = image.size\n",
        "\n",
        "    # Normalize the bounding box dimensions\n",
        "    x_center = (row['Roi.X1'] + (row['Roi.X2'] - row['Roi.X1']) / 2) / iw\n",
        "    y_center = (row['Roi.Y1'] + (row['Roi.Y2'] - row['Roi.Y1']) / 2) / ih\n",
        "    width = (row['Roi.X2'] - row['Roi.X1']) / iw\n",
        "    height = (row['Roi.Y2'] - row['Roi.Y1']) / ih\n",
        "\n",
        "    # Format for YOLO\n",
        "    yolo_data = f\"{row['ClassId']} {x_center} {y_center} {width} {height}\\n\"\n",
        "\n",
        "    # Write to the corresponding .txt file\n",
        "    txt_path = os.path.join(base_path, 'train/labels', os.path.splitext(os.path.basename(row['Path']))[0] + '.txt')\n",
        "    with open(txt_path, 'a') as file:\n",
        "        file.write(yolo_data)\n"
      ],
      "metadata": {
        "id": "oMukuIosPRkM"
      },
      "execution_count": 13,
      "outputs": []
    }
  ]
}